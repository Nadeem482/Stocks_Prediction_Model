{
 "cells": [
  {
   "cell_type": "code",
   "execution_count": 6,
   "id": "21e2944d",
   "metadata": {},
   "outputs": [
    {
     "name": "stdout",
     "output_type": "stream",
     "text": [
      "Requirement already satisfied: alpha_vantage in c:\\users\\dell\\appdata\\local\\programs\\python\\python310\\lib\\site-packages (2.3.1)\n",
      "Requirement already satisfied: aiohttp in c:\\users\\dell\\appdata\\local\\programs\\python\\python310\\lib\\site-packages (from alpha_vantage) (3.8.4)\n",
      "Requirement already satisfied: requests in c:\\users\\dell\\appdata\\local\\programs\\python\\python310\\lib\\site-packages (from alpha_vantage) (2.28.2)\n",
      "Requirement already satisfied: attrs>=17.3.0 in c:\\users\\dell\\appdata\\local\\programs\\python\\python310\\lib\\site-packages (from aiohttp->alpha_vantage) (22.1.0)\n",
      "Requirement already satisfied: charset-normalizer<4.0,>=2.0 in c:\\users\\dell\\appdata\\local\\programs\\python\\python310\\lib\\site-packages (from aiohttp->alpha_vantage) (3.1.0)\n",
      "Requirement already satisfied: multidict<7.0,>=4.5 in c:\\users\\dell\\appdata\\local\\programs\\python\\python310\\lib\\site-packages (from aiohttp->alpha_vantage) (6.0.4)\n",
      "Requirement already satisfied: async-timeout<5.0,>=4.0.0a3 in c:\\users\\dell\\appdata\\local\\programs\\python\\python310\\lib\\site-packages (from aiohttp->alpha_vantage) (4.0.2)\n",
      "Requirement already satisfied: yarl<2.0,>=1.0 in c:\\users\\dell\\appdata\\local\\programs\\python\\python310\\lib\\site-packages (from aiohttp->alpha_vantage) (1.9.1)\n",
      "Requirement already satisfied: frozenlist>=1.1.1 in c:\\users\\dell\\appdata\\local\\programs\\python\\python310\\lib\\site-packages (from aiohttp->alpha_vantage) (1.3.3)\n",
      "Requirement already satisfied: aiosignal>=1.1.2 in c:\\users\\dell\\appdata\\local\\programs\\python\\python310\\lib\\site-packages (from aiohttp->alpha_vantage) (1.3.1)\n",
      "Requirement already satisfied: idna<4,>=2.5 in c:\\users\\dell\\appdata\\local\\programs\\python\\python310\\lib\\site-packages (from requests->alpha_vantage) (3.4)\n",
      "Requirement already satisfied: urllib3<1.27,>=1.21.1 in c:\\users\\dell\\appdata\\local\\programs\\python\\python310\\lib\\site-packages (from requests->alpha_vantage) (1.26.15)\n",
      "Requirement already satisfied: certifi>=2017.4.17 in c:\\users\\dell\\appdata\\local\\programs\\python\\python310\\lib\\site-packages (from requests->alpha_vantage) (2022.12.7)\n",
      "Note: you may need to restart the kernel to use updated packages.\n"
     ]
    }
   ],
   "source": [
    "pip install alpha_vantage"
   ]
  },
  {
   "cell_type": "code",
   "execution_count": null,
   "id": "7d8895fc",
   "metadata": {},
   "outputs": [],
   "source": [
    "import time\n",
    "import pandas as pd\n",
    "from alpha_vantage.timeseries import TimeSeries\n",
    "\n",
    "# Define your Alpha Vantage API key\n",
    "api_key = 'M2C4VCS7F9SLM3U7'\n",
    "\n",
    "# Define a list of stock symbols\n",
    "symbols = ['AAPL', 'MSFT', 'AMZN', 'GOOGL', 'TSLA', 'BRK-A', 'BRK-B', 'JPM', 'JNJ', 'V', 'PG', 'NVDA', 'UNH', 'MA', 'HD', 'ADBE', 'DIS', 'BAC', 'NFLX', 'CMCSA', 'PYPL', 'KO', 'PFE', 'XOM', 'VZ', 'CSCO', 'PEP', 'ABT', 'WMT', 'CVX', 'NKE', 'INTC', 'MRK', 'CRM', 'T', 'MDT', 'WFC', 'MCD', 'ORCL', 'AMGN', 'COST', 'BA', 'TMUS', 'IBM', 'BMY', 'HON', 'ACN', 'TXN', 'ABBV', 'NEE']\n",
    "\n",
    "# Initialize an empty DataFrame to store the data\n",
    "data_df = pd.DataFrame()\n",
    "# Initialize a TimeSeries object with your API key\n",
    "ts = TimeSeries(key=api_key, output_format='pandas')\n",
    "\n",
    "# Loop through each symbol and retrieve the daily adjusted prices\n",
    "for symbol in symbols:\n",
    "    # Pause for 15 seconds between API calls\n",
    "    time.sleep(15)\n",
    "    data, meta_data = ts.get_daily_adjusted(symbol=symbol)\n",
    "    # Concatenate the data for each symbol into the DataFrame\n",
    "    data_df = pd.concat([data_df, data], axis=1)\n",
    "    \n",
    "# Print the DataFrame with the data for all symbols\n",
    "print(data_df)\n"
   ]
  },
  {
   "cell_type": "code",
   "execution_count": null,
   "id": "65b977d8",
   "metadata": {},
   "outputs": [],
   "source": [
    "import time\n",
    "import pandas as pd\n",
    "from alpha_vantage.timeseries import TimeSeries\n",
    "\n",
    "# Define your Alpha Vantage API key\n",
    "api_key = 'M2C4VCS7F9SLM3U7'\n",
    "\n",
    "# Define a list of stock symbols\n",
    "symbols = ['AAPL', 'MSFT', 'AMZN', 'GOOGL', 'TSLA', 'BRK-A', 'BRK-B', 'JPM', 'JNJ', 'V', 'PG', 'NVDA', 'UNH', 'MA', 'HD', 'ADBE', 'DIS', 'BAC', 'NFLX', 'CMCSA', 'PYPL', 'KO', 'PFE', 'XOM', 'VZ', 'CSCO', 'PEP', 'ABT', 'WMT', 'CVX', 'NKE', 'INTC', 'MRK', 'CRM', 'T', 'MDT', 'WFC', 'MCD', 'ORCL', 'AMGN', 'COST', 'BA', 'TMUS', 'IBM', 'BMY', 'HON', 'ACN', 'TXN', 'ABBV', 'NEE']\n",
    "\n",
    "# Initialize an empty dictionary to store the data\n",
    "data_dict = {}\n",
    "# Initialize a TimeSeries object with your API key\n",
    "ts = TimeSeries(key=api_key, output_format='pandas')\n",
    "\n",
    "# Loop through each symbol and retrieve the daily adjusted prices\n",
    "for symbol in symbols:\n",
    "    # Pause for 15 seconds between API calls\n",
    "    time.sleep(15)\n",
    "    data, meta_data = ts.get_daily_adjusted(symbol=symbol)\n",
    "    # Store the data for each symbol in the dictionary\n",
    "    data_dict[symbol] = data\n",
    "    \n",
    "# Print the dictionary keys to check if the data has been stored correctly\n",
    "print(data_dict.keys())\n"
   ]
  },
  {
   "cell_type": "code",
   "execution_count": null,
   "id": "e300b8e5",
   "metadata": {},
   "outputs": [],
   "source": [
    "# Print the data for each symbol\n",
    "for symbol, data in data_dict.items():\n",
    "    print(f\"{symbol} data:\\n{data}\\n\")"
   ]
  },
  {
   "cell_type": "code",
   "execution_count": null,
   "id": "e6b159c8",
   "metadata": {},
   "outputs": [],
   "source": [
    "pip install mplfinance"
   ]
  },
  {
   "cell_type": "code",
   "execution_count": null,
   "id": "954243d8",
   "metadata": {},
   "outputs": [],
   "source": [
    "import mplfinance as mpf\n",
    "\n",
    "# Loop through each symbol and plot the candlestick chart\n",
    "for symbol, data in data_dict.items():\n",
    "    # Set the date as the index of the data\n",
    "    data = data.set_index(pd.to_datetime(data.index))\n",
    "    # Rename the columns to match the expected format\n",
    "    data = data.rename(columns={'1. open': 'Open', '2. high': 'High', '3. low': 'Low', '4. close': 'Close', '5. adjusted close': 'Adj Close', '6. volume': 'Volume'})\n",
    "    # Define the title of the chart\n",
    "    title = f'Stocks Prices for {symbol}'\n",
    "    # Define the style of the chart\n",
    "    style = 'charles'\n",
    "    # Plot the candlestick chart\n",
    "    mpf.plot(data, type='candle', title=title, style=style, ylabel='Price')\n"
   ]
  },
  {
   "cell_type": "code",
   "execution_count": null,
   "id": "c3f2b11f",
   "metadata": {},
   "outputs": [],
   "source": []
  },
  {
   "cell_type": "code",
   "execution_count": null,
   "id": "d7ecaafc",
   "metadata": {},
   "outputs": [],
   "source": [
    "pip install Cython"
   ]
  },
  {
   "cell_type": "code",
   "execution_count": null,
   "id": "9f7c7749",
   "metadata": {},
   "outputs": [],
   "source": [
    "pip install fbprophet"
   ]
  },
  {
   "cell_type": "code",
   "execution_count": null,
   "id": "1525f8b4",
   "metadata": {},
   "outputs": [],
   "source": [
    "conda install -c conda-forge fbprophet"
   ]
  },
  {
   "cell_type": "code",
   "execution_count": null,
   "id": "6cf31297",
   "metadata": {},
   "outputs": [],
   "source": [
    "import pandas as pd\n",
    "import numpy as np\n",
    "from fbprophet import Prophet\n",
    "\n",
    "# Load the historical stock price data\n",
    "data = pd.read_csv('data.csv')\n",
    "\n",
    "# Clean the data\n",
    "data['Date'] = pd.to_datetime(data['Date'])\n",
    "data = data[data['Date'] < '2023-04-27'] # Keep data only till 27 April 2023\n",
    "data = data[['Date', 'Close']]\n",
    "data = data.rename(columns={'Date': 'ds', 'Close': 'y'})\n",
    "\n",
    "# Initialize the Prophet model\n",
    "model = Prophet()\n",
    "\n",
    "# Train the model\n",
    "model.fit(data)\n",
    "\n",
    "# Make predictions for the next month\n",
    "future = model.make_future_dataframe(periods=30, freq='D')\n",
    "forecast = model.predict(future)\n",
    "\n",
    "# Extract the predicted values for the next month\n",
    "predicted_values = forecast[-30:]['yhat'].values\n",
    "\n",
    "# Print the predicted values for the next month\n",
    "print('Predicted stock prices for the next 30 days:')\n",
    "print(predicted_values)\n"
   ]
  },
  {
   "cell_type": "code",
   "execution_count": null,
   "id": "29a8e477",
   "metadata": {},
   "outputs": [],
   "source": []
  }
 ],
 "metadata": {
  "kernelspec": {
   "display_name": "Python 3 (ipykernel)",
   "language": "python",
   "name": "python3"
  },
  "language_info": {
   "codemirror_mode": {
    "name": "ipython",
    "version": 3
   },
   "file_extension": ".py",
   "mimetype": "text/x-python",
   "name": "python",
   "nbconvert_exporter": "python",
   "pygments_lexer": "ipython3",
   "version": "3.10.0"
  }
 },
 "nbformat": 4,
 "nbformat_minor": 5
}
